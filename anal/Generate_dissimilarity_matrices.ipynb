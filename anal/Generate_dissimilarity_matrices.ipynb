{
 "cells": [
  {
   "cell_type": "code",
   "execution_count": 1,
   "metadata": {},
   "outputs": [
    {
     "name": "stdout",
     "output_type": "stream",
     "text": [
      "Populating the interactive namespace from numpy and matplotlib\n"
     ]
    },
    {
     "name": "stderr",
     "output_type": "stream",
     "text": [
      "/usr/lib/python2.7/dist-packages/sklearn/lda.py:4: DeprecationWarning: lda.LDA has been moved to discriminant_analysis.LinearDiscriminantAnalysis in 0.17 and will be removed in 0.19\n",
      "  \"in 0.17 and will be removed in 0.19\", DeprecationWarning)\n",
      "/usr/lib/python2.7/dist-packages/sklearn/cross_validation.py:44: DeprecationWarning: This module was deprecated in version 0.18 in favor of the model_selection module into which all the refactored classes and functions are moved. Also note that the interface of the new CV iterators are different from that of this module. This module will be removed in 0.20.\n",
      "  \"This module will be removed in 0.20.\", DeprecationWarning)\n",
      "/usr/lib/python2.7/dist-packages/sklearn/grid_search.py:43: DeprecationWarning: This module was deprecated in version 0.18 in favor of the model_selection module into which all the refactored classes and functions are moved. This module will be removed in 0.20.\n",
      "  DeprecationWarning)\n",
      "/usr/lib/python2.7/dist-packages/sklearn/qda.py:4: DeprecationWarning: qda.QDA has been moved to discriminant_analysis.QuadraticDiscriminantAnalysis in 0.17 and will be removed in 0.19.\n",
      "  \"in 0.17 and will be removed in 0.19.\", DeprecationWarning)\n"
     ]
    }
   ],
   "source": [
    "# These are global imports\n",
    "%pylab inline\n",
    "import sys\n",
    "import os\n",
    "import numpy as np\n",
    "import pandas as pd\n",
    "from scipy.spatial.distance import squareform\n",
    "from scipy.stats import rankdata\n",
    "from scipy.io import loadmat  # this is the SciPy module that loads mat-files\n",
    "import statsmodels.api as sm\n",
    "import statsmodels.formula.api as smf\n",
    "from scipy import ndimage\n",
    "import cPickle as pickle\n",
    "from joblib import Parallel,delayed\n",
    "# Connect to an R session\n",
    "import rpy2.robjects\n",
    "r = rpy2.robjects.r\n",
    "\n",
    "# For a Pythonic interface to R\n",
    "from rpy2.robjects.packages import importr\n",
    "from rpy2.robjects import Formula, FactorVector\n",
    "from rpy2.robjects.environments import Environment\n",
    "from rpy2.robjects.vectors import DataFrame, Vector, FloatVector\n",
    "from rpy2.rinterface import MissingArg,SexpVector\n",
    "# Make it so we can send numpy arrays to R\n",
    "import rpy2.robjects.numpy2ri\n",
    "rpy2.robjects.numpy2ri.activate()\n",
    "fdrtool = importr('fdrtool')\n",
    "from mvpa2.suite import *\n",
    "from scipy.io import loadmat\n",
    "from scipy.spatial.distance import squareform,pdist\n",
    "from scipy.stats import rankdata,pearsonr\n",
    "from scipy import stats\n",
    "\n",
    "#import prettyplotlib as ppl\n",
    "\n",
    "#import brewer2mpl\n",
    "from mpl_toolkits.mplot3d import Axes3D\n",
    "from geopy import Point\n",
    "from geopy.distance import distance\n"
   ]
  },
  {
   "cell_type": "code",
   "execution_count": 2,
   "metadata": {
    "collapsed": true
   },
   "outputs": [],
   "source": [
    "# define base data and subject list\n",
    "basedir = '/cmlab/data/fmri/expSamp/data/'\n",
    "subjects = ['expSamp01',\n",
    "'expSamp02',\n",
    "'expSamp03',\n",
    "'expSamp04',\n",
    "'expSamp05',\n",
    "'expSamp07',\n",
    "'expSamp08',\n",
    "'expSamp09',\n",
    "'expSamp10']"
   ]
  },
  {
   "cell_type": "code",
   "execution_count": 3,
   "metadata": {
    "collapsed": true
   },
   "outputs": [],
   "source": [
    "#load in events csvs\n",
    "for i,subj in enumerate(subjects):\n",
    "    if i ==0:\n",
    "        allev_df = pd.read_csv(os.path.join(basedir,subj,'events.csv'))\n",
    "    else:\n",
    "        allev_df = pd.concat([allev_df,pd.read_csv(os.path.join(basedir,subj,'events.csv'))])"
   ]
  },
  {
   "cell_type": "code",
   "execution_count": 2,
   "metadata": {
    "collapsed": true
   },
   "outputs": [],
   "source": [
    "# this was code to create the csv that I edited with new gps coords, don't run this\n",
    "\n",
    "#kept_stims = allev_df.loc[((allev_df['event_type']==\"DISP_IMAGE\") & (allev_df['prac_trial']==False)),:]\n",
    "#kept_stims['gps_mod']=0\n",
    "# this line is broken on purpose, to keep you from running it, it's just a reminder of how I made the csv\n",
    "#kept_stims.to_csv(os.path.join(basedir,'exp_stims_1.csv') \n"
   ]
  },
  {
   "cell_type": "code",
   "execution_count": 4,
   "metadata": {
    "collapsed": true
   },
   "outputs": [],
   "source": [
    "#load in the csv with all the events and the new gps coordinates\n",
    "kept_stims = pd.read_csv('/cmlab/data/fmri/expSamp/data/rsa_new/exp_stims.csv',sep = '\\t')\n",
    "kept_stims.loc[pd.isnull(kept_stims['self']),'self'] = 0"
   ]
  },
  {
   "cell_type": "code",
   "execution_count": 7,
   "metadata": {
    "collapsed": true
   },
   "outputs": [],
   "source": [
    "#kept_stims"
   ]
  },
  {
   "cell_type": "code",
   "execution_count": 4,
   "metadata": {
    "collapsed": true
   },
   "outputs": [],
   "source": [
    "#load hamming distances\n",
    "ham_path = os.path.join(basedir,'hamming/AllSubsHammingDists.mat')\n",
    "mat = loadmat(ham_path)\n",
    "ham_dat = mat['AllSubsHammingDists']\n",
    "ham_dat = ham_dat[[True,True,True,True,True,False,True,True,True,True]]"
   ]
  },
  {
   "cell_type": "code",
   "execution_count": 5,
   "metadata": {
    "collapsed": true
   },
   "outputs": [],
   "source": [
    "# define different distance metrics\n",
    "def geodesic(u,v):\n",
    "    return distance(Point(u[0],u[1]),Point(v[0],v[1])).meters\n",
    "def genps(u,v):\n",
    "    if u != v:\n",
    "        return 2\n",
    "    else:\n",
    "        return u\n",
    "def booland(u,v):\n",
    "    return (bool(u)&bool(v))\n",
    "def boolor(u,v):\n",
    "    return (bool(u)|bool(v))\n",
    "def gensev(u,v):\n",
    "    if u == v:\n",
    "        return 1\n",
    "    else:\n",
    "        return 0\n",
    "def ave(u,v):\n",
    "    return np.average([u,v])"
   ]
  },
  {
   "cell_type": "code",
   "execution_count": 6,
   "metadata": {
    "collapsed": true
   },
   "outputs": [],
   "source": [
    "# make rsa_dat dataframe\n",
    "#subj = 'expSamp01'\n",
    "for j,subj in enumerate(subjects):    \n",
    "    cords = [(kept_stims.loc[kept_stims['subject_id']==subj,['latitude']].values[i][0],kept_stims.loc[kept_stims['subject_id']==subj,['longitude']].values[i][0]) for i in range(len(kept_stims.loc[kept_stims['subject_id']==subj,:]))]\n",
    "    \n",
    "    space = pdist(cords,metric=geodesic)\n",
    "    sdict = dict(\n",
    "    space = space,\n",
    "    time = pdist(kept_stims.loc[kept_stims['subject_id']==subj,['image_time']],metric='euclidean'),\n",
    "    event = pdist(kept_stims.loc[kept_stims['subject_id']==subj,['event_time']],metric='euclidean'),\n",
    "    pair_str = pdist(kept_stims.loc[kept_stims['subject_id']==subj,['strong']],metric=genps),\n",
    "    viv_dif = pdist(kept_stims.loc[kept_stims['subject_id']==subj,['img_vividness']],metric='euclidean'),\n",
    "    viv_ave = np.abs(1-pdist(kept_stims.loc[kept_stims['subject_id']==subj,['vivid_mem']],metric=ave)),\n",
    "    viv_bin = 1-pdist(((kept_stims.loc[kept_stims['subject_id']==subj,['vivid_mem']].values)),metric=booland).astype(bool),\n",
    "    hasgps = pdist(((kept_stims.loc[kept_stims['subject_id']==subj,['has_gps']].values) | (kept_stims.loc[kept_stims['subject_id']==subj,['gps_mod']].values)),metric=booland).astype(bool),\n",
    "    gpsmod = pdist(kept_stims.loc[kept_stims['subject_id']==subj,['gps_mod']],metric=boolor).astype(bool),\n",
    "    self = pdist(kept_stims.loc[kept_stims['subject_id']==subj,['self']],metric=boolor).astype(bool),\n",
    "    same_ev = pdist(kept_stims.loc[kept_stims['subject_id']==subj,['chunk_iloc']],metric=gensev).astype(bool),\n",
    "    oldkeep = pdist(kept_stims.loc[kept_stims['subject_id']==subj,['keep']],metric=booland).astype(bool),\n",
    "    s1_trial = squareform(np.mgrid[0:120,0:120][0],checks = False)+1,\n",
    "    s2_trial = squareform(np.mgrid[0:120,0:120][1],checks = False)+1,\n",
    "    subject = np.array([subj]*len(space)).astype('S10'),\n",
    "    rem = pdist(((kept_stims.loc[kept_stims['subject_id']==subj,['remembered']].values)),metric=booland).astype(bool),\n",
    "    rem_ave = np.abs(1-pdist(kept_stims.loc[kept_stims['subject_id']==subj,['remembered']],metric=ave)),\n",
    "    ham = squareform(ham_dat[j][0],checks=False)\n",
    "    )\n",
    "\n",
    "    sdict['pair_str']=np.array([\"1weak\" if sdict['pair_str'][i] == 0 else \"3strong\" if sdict['pair_str'][i] == 1 else \"2mixed\" for i in range(len(sdict['pair_str']))],dtype='|S8')\n",
    "    #sdict['pair_str'][((sdict['hasgps']==False))] = \"0exclude\"\n",
    "    sdict['pair_str'][((sdict['self']==True))] = \"0exclude\"\n",
    "    sdict['pair_str'][((sdict['oldkeep']==False))] = \"0exclude\"\n",
    "    sdict['pair_str'][((np.isnan(sdict['ham'])))] = \"0exclude\"\n",
    "    #sdict['pair_str'][((sdict['same_ev']==True))] = \"0exclude\"\n",
    "\n",
    "\n",
    "    subj_dat = pd.DataFrame(sdict, columns = ['subject',\n",
    "                           'pair_str',\n",
    "                           's1_trial',\n",
    "                           's2_trial',\n",
    "                           'space',\n",
    "                           'time',\n",
    "                           'event',\n",
    "                           'same_ev',\n",
    "                           'oldkeep',\n",
    "                           'hasgps',\n",
    "                           'self',\n",
    "                           'gpsmod',\n",
    "                           'viv_dif',\n",
    "                           'viv_bin',\n",
    "                           'viv_ave',\n",
    "                           'rem',\n",
    "                           'rem_ave',\n",
    "                           'ham'\n",
    "                           ])\n",
    "    if j == 0:\n",
    "        rsa_dat_df = subj_dat\n",
    "    else:\n",
    "        rsa_dat_df = pd.concat([rsa_dat_df,subj_dat])\n",
    "\n",
    "# write to file\n",
    "rsa_dat = rsa_dat_df.to_records(index=False)\n",
    "# this fixes column types that pandas randomly sets to object for some annoying reason\n",
    "rsa_dat = rsa_dat.astype([('subject', 'S10'), ('pair_str', 'S10'), ('s1_trial', '<i4'), ('s2_trial', '<i4'), ('space', '<f8'), ('time', '<f8'),('event','<f8'),\n",
    "                          ('same_ev', '?'), ('oldkeep', '?'), ('hasgps', '?'),('viv_dif','<f8'), ('viv_bin', '?'),('viv_ave','<f8'),('rem', '?'),('rem_ave','<f8'),('ham','<f8')])\n",
    "rsa_dat.dump(os.path.join(basedir,'rsa_new','rsa_dataset_gps_time_old_exclude_viv_bin_scan_time_rem_ham.pickle'))"
   ]
  },
  {
   "cell_type": "code",
   "execution_count": 7,
   "metadata": {
    "collapsed": true
   },
   "outputs": [],
   "source": [
    "#drop excluded rows\n",
    "rsa_dat_df_drop = rsa_dat_df[(rsa_dat_df['pair_str'] != '0exclude')]\n",
    "rsa_dat_drop = rsa_dat_df_drop.to_records(index=False)\n",
    "rsa_dat_drop = rsa_dat_drop.astype([('subject', 'S10'), ('pair_str', 'S10'), ('s1_trial', '<i4'), ('s2_trial', '<i4'), ('space', '<f8'), ('time', '<f8'),('event','<f8'),\n",
    "                          ('same_ev', '?'), ('oldkeep', '?'), ('hasgps', '?'),('timef', 'S6'),('spacef', 'S6'),('viv_dif','<f8'), ('viv_bin', '?'),('viv_ave','<f8'),('rem', '?'),('rem_ave','<f8'),('ham','<f8')])\n",
    "rsa_dat_drop.dump(os.path.join(basedir,'rsa_new','rsa_dataset_gps_time_old_exclude_drop_viv_bin_scan_time_rem_ham.pickle'))"
   ]
  },
  {
   "cell_type": "code",
   "execution_count": null,
   "metadata": {
    "collapsed": true
   },
   "outputs": [],
   "source": []
  }
 ],
 "metadata": {
  "kernelspec": {
   "display_name": "Python 2",
   "language": "python",
   "name": "python2"
  },
  "language_info": {
   "codemirror_mode": {
    "name": "ipython",
    "version": 2
   },
   "file_extension": ".py",
   "mimetype": "text/x-python",
   "name": "python",
   "nbconvert_exporter": "python",
   "pygments_lexer": "ipython2",
   "version": "2.7.13"
  }
 },
 "nbformat": 4,
 "nbformat_minor": 1
}
