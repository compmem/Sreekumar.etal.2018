{
 "cells": [
  {
   "cell_type": "code",
   "execution_count": 4,
   "metadata": {
    "collapsed": true
   },
   "outputs": [],
   "source": [
    "# Get the model 2 runs that timed out.\n",
    "\n",
    "with open('/data/nielsond/expSamp/anal/expSamp_m2.sf', 'w') as h:\n",
    "    for i in [7475,76,77,78,79,907,908,909]:\n",
    "        h.write('python /data/nielsond/expSamp/anal/ExpSamp_SL_log_trim_perm_felix_mod2.py %d; \\n'%i)"
   ]
  },
  {
   "cell_type": "code",
   "execution_count": 5,
   "metadata": {
    "collapsed": true
   },
   "outputs": [],
   "source": [
    "with open('/data/nielsond/expSamp/anal/expSamp_m4.sf', 'w') as h:\n",
    "    for i in range(600,1000):\n",
    "        h.write('python /data/nielsond/expSamp/anal/ExpSamp_SL_log_trim_perm_felix_mod4.py %d; \\n'%i)"
   ]
  },
  {
   "cell_type": "code",
   "execution_count": 6,
   "metadata": {
    "collapsed": true
   },
   "outputs": [],
   "source": [
    "with open('/data/nielsond/expSamp/anal/expSamp.sf', 'w') as h:\n",
    "    for i in range(0,1000):\n",
    "        h.write('python /data/nielsond/expSamp/anal/ExpSamp_SL_log_trim_perm_felix.py %d; \\n'%i)"
   ]
  },
  {
   "cell_type": "code",
   "execution_count": 7,
   "metadata": {
    "collapsed": true
   },
   "outputs": [],
   "source": [
    "with open('/data/nielsond/expSamp/anal/expSamp.sf', 'w') as h:\n",
    "    for i in range(230,280):\n",
    "        h.write('python /data/nielsond/expSamp/anal/ExpSamp_SL_log_trim_perm_felix.py %d; \\n'%i)"
   ]
  },
  {
   "cell_type": "code",
   "execution_count": 8,
   "metadata": {
    "collapsed": true
   },
   "outputs": [],
   "source": [
    "with open('/data/nielsond/expSamp/anal/expSamp.sf', 'w') as h:\n",
    "    for i in [666, 693, 711, 718, 721, 726]:\n",
    "        h.write('python /data/nielsond/expSamp/anal/ExpSamp_SL_log_trim_perm_felix.py %d; \\n'%i)"
   ]
  },
  {
   "cell_type": "code",
   "execution_count": null,
   "metadata": {
    "collapsed": true
   },
   "outputs": [],
   "source": []
  }
 ],
 "metadata": {
  "kernelspec": {
   "display_name": "Python 2",
   "language": "python",
   "name": "python2"
  },
  "language_info": {
   "codemirror_mode": {
    "name": "ipython",
    "version": 2
   },
   "file_extension": ".py",
   "mimetype": "text/x-python",
   "name": "python",
   "nbconvert_exporter": "python",
   "pygments_lexer": "ipython2",
   "version": "2.7.13"
  }
 },
 "nbformat": 4,
 "nbformat_minor": 2
}
