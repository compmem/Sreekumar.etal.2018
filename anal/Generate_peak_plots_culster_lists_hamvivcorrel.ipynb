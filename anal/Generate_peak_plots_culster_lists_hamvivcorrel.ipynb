{
 "cells": [
  {
   "cell_type": "code",
   "execution_count": 17,
   "metadata": {},
   "outputs": [
    {
     "name": "stdout",
     "output_type": "stream",
     "text": [
      "Populating the interactive namespace from numpy and matplotlib\n"
     ]
    },
    {
     "name": "stderr",
     "output_type": "stream",
     "text": [
      "/data/nielsond/python/envs/py27mvpa/lib/python2.7/site-packages/IPython/core/magics/pylab.py:161: UserWarning: pylab import has clobbered these variables: ['copy', 'product', 'types', 'vstack', 'seed', 'random', 'ceil', 'hist', 'chisquare', 'save', 'test', 'matshow', 'hstack', 'lstsq', 'argsort', 'log10', 'info', 'floor']\n",
      "`%matplotlib` prevents importing * from pylab and numpy\n",
      "  \"\\n`%matplotlib` prevents importing * from pylab and numpy\"\n"
     ]
    }
   ],
   "source": [
    "# These are global imports\n",
    "%pylab inline\n",
    "import sys\n",
    "import os\n",
    "import numpy as np\n",
    "import numpy.ma as ma\n",
    "import pandas as pd\n",
    "from scipy.spatial.distance import squareform\n",
    "from scipy.stats import rankdata\n",
    "import statsmodels.api as sm\n",
    "import statsmodels.formula.api as smf\n",
    "from scipy import ndimage\n",
    "import cPickle as pickle\n",
    "from joblib import Parallel,delayed\n",
    "# Connect to an R session\n",
    "import nibabel as nb\n",
    "import numpy.lib.recfunctions as nprf \n",
    "\n",
    "import seaborn as sns\n",
    "from mvpa2.suite import *\n",
    "from scipy.io import loadmat\n",
    "from scipy.spatial.distance import squareform,pdist\n",
    "from scipy.stats import rankdata,pearsonr\n",
    "from scipy import stats\n",
    "\n",
    "#import prettyplotlib as ppl\n",
    "#import brewer2mpl\n",
    "from mpl_toolkits.mplot3d import Axes3D\n",
    "from nibabel.spatialimages import ImageFileError"
   ]
  },
  {
   "cell_type": "markdown",
   "metadata": {},
   "source": [
    "# Run ttest, make stat maps"
   ]
  },
  {
   "cell_type": "code",
   "execution_count": 2,
   "metadata": {
    "collapsed": true
   },
   "outputs": [],
   "source": [
    "#define paths and such\n",
    "\n",
    "#define formula for glm, this is also a thing that may change run to run\n",
    "fe_formula = 'val~ham+ham:viv_ave+viv_ave+correl+event'  # MODEL 1\n",
    "run_name = 'perm_hamvivcorrel_stlim_SL4_zndist_1000perms_v1' #this one you should probably change for each run\n",
    "\n",
    "spacemax = 10.**4.5\n",
    "spacemin = 10.**2\n",
    "#spacemin = 0\n",
    "#timemin = 0\n",
    "timemin = 10.**4.75\n",
    "timemax =  10007180\n",
    "\n",
    "method = 'glm'\n",
    "run_type = '%s_sl'%(method)\n",
    "\n",
    "basedir = '/data/nielsond/expSamp/data/'\n",
    "data_dir = os.path.join(basedir,'input')\n",
    "data_file = 'rsa_dataset_gps_time_old_exclude_drop_viv_bin_scan_time_rem_ham.pickle'  \n",
    "outdir = '/data/nielsond/expSamp/data/output/%s_sl/%s'%(method,run_name)\n",
    "ss_out_pat = 'betas.%s.%s.%s.%03d.nii.gz'\n",
    "combined_out_pat = '%s.%s.%s.nii.gz'\n",
    "fmri_pat = 'input/stb.%s_stb_qwarp_e2a.nii.gz'\n",
    "subj_mask_pat = 'input/%s_mask_GM_full_+tlrc.nii.gz'\n",
    "stat_out_pat = '%s.%s.%s.%s.%03d.nii.gz'\n",
    "\n",
    "mask_pat='/data/nielsond/expSamp/data/input/MNI152_T1_2.5mm_GM_mask.nii.gz'\n",
    "    \n",
    "\n",
    "#conj_keys = ['ham','ham:viv_ave']#,'space','time'] #keys for conjunction analysis (what regions are sig for the conjunction)\n",
    "\n",
    "subjects = ['expSamp01',\n",
    "'expSamp02',\n",
    "'expSamp03',\n",
    "'expSamp04',\n",
    "'expSamp05',\n",
    "'expSamp07',\n",
    "'expSamp08',\n",
    "'expSamp09',\n",
    "'expSamp10']\n",
    "\n",
    "\n",
    "#make output directory if it doesn't exist\n",
    "if not os.path.exists(outdir):\n",
    "    os.makedirs(outdir)\n",
    "    \n",
    "#load independent data\n",
    "dat = np.load(os.path.join(data_dir,data_file))"
   ]
  },
  {
   "cell_type": "code",
   "execution_count": 3,
   "metadata": {},
   "outputs": [
    {
     "data": {
      "text/plain": [
       "'/data/nielsond/expSamp/data/output/glm_sl/perm_full_ks_stlim_SL4_zndist_1000perms_v1'"
      ]
     },
     "execution_count": 3,
     "metadata": {},
     "output_type": "execute_result"
    }
   ],
   "source": [
    "outdir"
   ]
  },
  {
   "cell_type": "code",
   "execution_count": 4,
   "metadata": {
    "collapsed": true
   },
   "outputs": [],
   "source": [
    "# Model 4\n",
    "contrasts = {'event':1,'ham':2}\n",
    "model_meas = {'deviance':(6),\n",
    "             'scale':(7),\n",
    "             'llf':(8),\n",
    "             'count':(9)}\n"
   ]
  },
  {
   "cell_type": "code",
   "execution_count": 27,
   "metadata": {
    "collapsed": true
   },
   "outputs": [],
   "source": [
    "# Model 3\n",
    "contrasts = {'correl':1,'event':2,'ham':3}\n",
    "model_meas = {'deviance':(8),\n",
    "             'scale':(9),\n",
    "             'llf':(10),\n",
    "             'count':(11)}\n"
   ]
  },
  {
   "cell_type": "code",
   "execution_count": 7,
   "metadata": {
    "collapsed": true
   },
   "outputs": [],
   "source": [
    "# Model 2\n",
    "contrasts = {'event':1,'ham':2,'ham-viv_ave':3,'viv_ave':4}\n",
    "model_meas = {'deviance':(10),\n",
    "             'scale':(11),\n",
    "             'llf':(12),\n",
    "             'count':(13)}"
   ]
  },
  {
   "cell_type": "code",
   "execution_count": 162,
   "metadata": {
    "collapsed": true
   },
   "outputs": [],
   "source": [
    "contrasts = {'intercept':0,'correl':1,'event':2,'ham':3,'ham-viv_ave':4,\n",
    "             'space':5, 'space:time':6,'time':7,'viv_ave':8}\n",
    "model_meas = {'deviance':(18),\n",
    "             'scale':(19),\n",
    "             'llf':(20),\n",
    "             'count':(21)}\n"
   ]
  },
  {
   "cell_type": "code",
   "execution_count": 3,
   "metadata": {
    "collapsed": true
   },
   "outputs": [],
   "source": [
    "contrasts = {'intercept':0,'correl':1,'event':2,'ham':3,'ham-viv_ave':4,'viv_ave':5}\n",
    "model_meas = {'deviance':(12),\n",
    "             'scale':(13),\n",
    "             'llf':(14),\n",
    "             'count':(15)}\n",
    "\n",
    "#1 event betas\n",
    "#2 ham betas\n",
    "#3 space betas\n",
    "#4 space:time betas\n",
    "#5 time betas\n",
    "#6 Intercept tvals\n",
    "#7 event tvals\n",
    "#8 ham tvals\n",
    "#9 space tvals\n",
    "#10 space:time tvals\n",
    "#11 time tvals\n",
    "#12 deviance\n",
    "#13 scale\n",
    "#14 llf\n",
    "#15 count\n"
   ]
  },
  {
   "cell_type": "code",
   "execution_count": 5,
   "metadata": {
    "collapsed": true
   },
   "outputs": [],
   "source": [
    "#grab dat mask\n",
    "mask = nb.load(mask_path) \n",
    "#stdmask = nb.load(std_mask_path)\n",
    "ind = (mask.get_data()>0) #& (stdmask.get_data()>0))\n",
    "count_thresh = 20"
   ]
  },
  {
   "cell_type": "code",
   "execution_count": 10,
   "metadata": {},
   "outputs": [
    {
     "name": "stdout",
     "output_type": "stream",
     "text": [
      "/data/nielsond/expSamp/data/output/glm_sl/perm_full_ks_stlim_SL4_zndist_1000perms_v1/stats/correl.tvals_cmask.perm_full_ks_stlim_SL4_zndist_1000perms_v1.glm_sl.tfce.000.nii.gz\r\n",
      "/data/nielsond/expSamp/data/output/glm_sl/perm_full_ks_stlim_SL4_zndist_1000perms_v1/stats/event.tvals_cmask.perm_full_ks_stlim_SL4_zndist_1000perms_v1.glm_sl.tfce.000.nii.gz\r\n",
      "/data/nielsond/expSamp/data/output/glm_sl/perm_full_ks_stlim_SL4_zndist_1000perms_v1/stats/ham-viv_ave.tvals_cmask.perm_full_ks_stlim_SL4_zndist_1000perms_v1.glm_sl.tfce.000.nii.gz\r\n",
      "/data/nielsond/expSamp/data/output/glm_sl/perm_full_ks_stlim_SL4_zndist_1000perms_v1/stats/ham.tvals_cmask.perm_full_ks_stlim_SL4_zndist_1000perms_v1.glm_sl.tfce.000.nii.gz\r\n",
      "/data/nielsond/expSamp/data/output/glm_sl/perm_full_ks_stlim_SL4_zndist_1000perms_v1/stats/ham_cj_ham-viv_ave.tvals_cmask.perm_full_ks_stlim_SL4_zndist_1000perms_v1.glm_sl.cj_tfce.000.nii.gz\r\n",
      "/data/nielsond/expSamp/data/output/glm_sl/perm_full_ks_stlim_SL4_zndist_1000perms_v1/stats/space.tvals_cmask.perm_full_ks_stlim_SL4_zndist_1000perms_v1.glm_sl.tfce.000.nii.gz\r\n",
      "/data/nielsond/expSamp/data/output/glm_sl/perm_full_ks_stlim_SL4_zndist_1000perms_v1/stats/space:time.tvals_cmask.perm_full_ks_stlim_SL4_zndist_1000perms_v1.glm_sl.tfce.000.nii.gz\r\n",
      "/data/nielsond/expSamp/data/output/glm_sl/perm_full_ks_stlim_SL4_zndist_1000perms_v1/stats/time.tvals_cmask.perm_full_ks_stlim_SL4_zndist_1000perms_v1.glm_sl.tfce.000.nii.gz\r\n",
      "/data/nielsond/expSamp/data/output/glm_sl/perm_full_ks_stlim_SL4_zndist_1000perms_v1/stats/viv_ave.tvals_cmask.perm_full_ks_stlim_SL4_zndist_1000perms_v1.glm_sl.tfce.000.nii.gz\r\n"
     ]
    }
   ],
   "source": [
    "!ls /data/nielsond/expSamp/data/output/glm_sl/perm_full_ks_stlim_SL4_zndist_1000perms_v1/stats/*tfce.000*"
   ]
  },
  {
   "cell_type": "code",
   "execution_count": 4,
   "metadata": {
    "collapsed": true
   },
   "outputs": [],
   "source": [
    "# get independent variables\n",
    "#load independent data\n",
    "dat = np.load(os.path.join(data_dir,data_file))\n",
    "\n",
    "#swap strong and weak so that the main effects relflect pair strength strong\n",
    "dat['pair_str'] = ['3weak' if dat['pair_str'][i] == '1weak' else '1strong' if dat['pair_str'][i]=='3strong' else dat['pair_str'][i] for i in range(len(dat))]\n",
    "\n",
    "#Recode rem_ave such that rem_ave = 1 for rem_ave=0.5 or 1 (currently)\n",
    "dat['rem_ave'] = [0 if dat['rem_ave'][i] == 0 else 1 for i in range(len(dat))]\n",
    "\n",
    "\n",
    "#    #cheat and grab lah distance from old data\n",
    "#   dat_old = np.load(os.path.join(data_dir,'rsa_dataset_gps_time_old_exclude_drop_viv_dif_lah.pickle'))\n",
    "#    #data_file_old = 'rsa_dataset_gps_time_correl_all.pickle'\n",
    "#    #dat_old = np.load(os.path.join(data_dir_old,data_file_old))\n",
    "\n",
    "#    cd_new = []\n",
    "#    for i in range(len(dat)):\n",
    "#        ind = ((dat_old['subject'] == dat['subject'][i]) & ( dat_old['s1_trial'] == dat['s1_trial'][i]) & (dat_old['s2_trial'] == dat['s2_trial'][i]))\n",
    "#        cd_new.append(dat_old['LAH_dist'][ind])\n",
    "#        \n",
    "#    dat = nprf.rec_append_fields(dat,'LAH_dist',np.array(cd_new).squeeze())\n",
    "\n",
    "#cheat and grab correl distance from old data\n",
    "#data_dir_old = os.path.join(basedir,'rsa/gps_time_correl_all')  # CHECK IF ALL 120 for all subs, then check if they are getting appended correctly\n",
    "data_file_old = 'rsa_dataset_gps_time_correl_all.pickle'\n",
    "dat_old = np.load(os.path.join(data_dir,data_file_old))\n",
    "\n",
    "cd_new = []\n",
    "for i in range(len(dat)):\n",
    "    ind = ((dat_old['subject'] == dat['subject'][i]) & ( dat_old['s1_trial'] == dat['s1_trial'][i]) & (dat_old['s2_trial'] == dat['s2_trial'][i]))\n",
    "    cd_new.append(dat_old['correl'][ind])\n",
    "\n",
    "dat = nprf.rec_append_fields(dat,'correl',np.array(cd_new).squeeze())\n",
    "\n",
    "\n",
    "#Drop 118 from expSamp07\n",
    "sind = (dat['subject']=='expSamp07') & ((dat['s1_trial']==118) | (dat['s2_trial']==118))\n",
    "for i in range(len(sind)):\n",
    "    if sind[i]== True:\n",
    "        dat[i]['pair_str']='0exclude'    # <codecell>\n",
    "dat = dat[dat['pair_str']!='0exclude']\n",
    "\n",
    "kept_stims = {}\n",
    "for subj in subjects:\n",
    "    s1_exclude = np.array(np.unique(dat[((dat['subject']==subj) & (dat['pair_str'] != '0exclude'))]['s1_trial']))\n",
    "    s2_exclude = np.array(np.unique(dat[((dat['subject']==subj) & (dat['pair_str'] != '0exclude'))]['s2_trial']))\n",
    "    kept_stims[subj] = np.unique(np.array([s1_exclude,s2_exclude]))-1"
   ]
  },
  {
   "cell_type": "code",
   "execution_count": 5,
   "metadata": {
    "collapsed": true
   },
   "outputs": [],
   "source": [
    "datdf = pd.DataFrame(dat)"
   ]
  },
  {
   "cell_type": "code",
   "execution_count": 6,
   "metadata": {
    "collapsed": true
   },
   "outputs": [],
   "source": [
    "cj_name = \"ham_cj_ham-viv_ave.tvals_cmask.perm_hamvivcorrel_stlim_SL4_zndist_1000perms_v1.glm_sl.cj_tfce.000.nii.gz\"\n",
    "cj = nb.load(os.path.join(outdir,\"stats\",cj_name))\n",
    "radius = 3"
   ]
  },
  {
   "cell_type": "code",
   "execution_count": 7,
   "metadata": {
    "collapsed": true
   },
   "outputs": [],
   "source": [
    "#get conjunciton data\n",
    "cj_dat = cj.get_data()"
   ]
  },
  {
   "cell_type": "code",
   "execution_count": 8,
   "metadata": {
    "collapsed": true
   },
   "outputs": [],
   "source": [
    "# Get array indices corresponding to sphere centered at max value of conjunction\n",
    "center_point = [i[0] for i in np.where(cj_dat == cj_dat.max())]\n",
    "coords = np.array(Sphere(radius)(center_point)).squeeze()\n",
    "cx = coords[:,0]\n",
    "cy = coords[:,1]\n",
    "cz = coords[:,2]"
   ]
  },
  {
   "cell_type": "code",
   "execution_count": 9,
   "metadata": {
    "collapsed": true
   },
   "outputs": [],
   "source": [
    "# Turn indicies into a mask\n",
    "sl_mask = np.zeros(cj_dat.shape)\n",
    "sl_mask[cx,cy,cz] = 1"
   ]
  },
  {
   "cell_type": "code",
   "execution_count": 10,
   "metadata": {},
   "outputs": [
    {
     "data": {
      "text/plain": [
       "[29, 23, 38]"
      ]
     },
     "execution_count": 10,
     "metadata": {},
     "output_type": "execute_result"
    }
   ],
   "source": [
    "center_point"
   ]
  },
  {
   "cell_type": "markdown",
   "metadata": {},
   "source": [
    "# Add Neural distances to dataframe"
   ]
  },
  {
   "cell_type": "code",
   "execution_count": 11,
   "metadata": {
    "collapsed": true
   },
   "outputs": [],
   "source": [
    "# calculate neural distances\n",
    "def get_neural_distance(d, index, mask,zdist = False, use_rank = False, metric = \"correlation\"):\n",
    "    ndist = pdist(d[mask].T, metric=metric)[index]\n",
    "    if zdist == True:\n",
    "        ndist = (ndist-np.average(ndist))/np.std(ndist)\n",
    "    if use_rank:\n",
    "        #rank it\n",
    "        ndist = rankdata(ndist)\n",
    "    return ndist"
   ]
  },
  {
   "cell_type": "code",
   "execution_count": 12,
   "metadata": {
    "collapsed": true
   },
   "outputs": [],
   "source": [
    "with open('/data/nielsond/expSamp/data/input/ham_perms_all.npz','rb') as handle:\n",
    "        perm_dict = pickle.load(handle)\n"
   ]
  },
  {
   "cell_type": "code",
   "execution_count": 13,
   "metadata": {
    "collapsed": true
   },
   "outputs": [],
   "source": [
    "res = {}\n",
    "for subj in subjects:\n",
    "    subj_mask =  nb.load(os.path.join(basedir,subj_mask_pat%(subj))).get_data()\n",
    "    mask = subj_mask.astype(bool) & sl_mask.astype(bool)\n",
    "    ds = nb.load(os.path.join(basedir,fmri_pat%(subj))).get_data()\n",
    "    #dsmask = fmri_dataset(os.path.join(basedir,subj_mask_pat%(subj)),mask=mask_pat)\n",
    "\n",
    "    # define index\n",
    "    # ind = (((dat[dat['subject']==subj]['pair_str']=='1strong') | (dat[dat['subject']==subj]['pair_str']=='3weak')) &\n",
    "    #ind = dat[dat['subject']==subj]['subject']==subj # USE THIS\n",
    "    #ind=dat[dat['subject']==subj]['rem_ave']==1\n",
    "    #ind=dat[dat['subject']==subj]['rem']==True | (dat[dat['subject']==subj]['rem']==False))\n",
    "    #ind=((dat[dat['subject']==subj]['rem']==True) | (dat[dat['subject']==subj]['rem']==False))  \n",
    "           #&\n",
    "    #ind= ((dat[dat['subject']==subj]['rem_ave']==0) & (dat[dat['subject']==subj]['space'] < spacemax) & (dat[dat['subject'] == subj]['space'] > spacemin) &\n",
    "    #      (dat[dat['subject']==subj]['time'] < timemax) & (dat[dat['subject'] == subj]['time'] > timemin))\n",
    "\n",
    "    ind= ((dat[dat['subject']==subj]['space'] < spacemax) & (dat[dat['subject'] == subj]['space'] > spacemin) &\n",
    "          (dat[dat['subject']==subj]['time'] < timemax) & (dat[dat['subject'] == subj]['time'] > timemin))\n",
    "    res[subj] = get_neural_distance(ds[:,:,:,perm_dict[subj][0]],ind,mask,zdist = True)    \n",
    "\n"
   ]
  },
  {
   "cell_type": "code",
   "execution_count": 19,
   "metadata": {
    "collapsed": true,
    "scrolled": false
   },
   "outputs": [],
   "source": [
    "for subj in subjects:\n",
    "    dfind = ((datdf.subject == subj) & (datdf.pair_str != '0exclude') \n",
    "    & (datdf.space<spacemax) & (datdf.space > spacemin)\n",
    "    & (datdf.time<timemax) & (datdf.time > timemin))\n",
    "    datdf.loc[dfind,'val'] = res[subj]\n",
    "        "
   ]
  },
  {
   "cell_type": "markdown",
   "metadata": {},
   "source": [
    "# Add betas to dataframe"
   ]
  },
  {
   "cell_type": "code",
   "execution_count": 182,
   "metadata": {
    "collapsed": true
   },
   "outputs": [],
   "source": [
    "n = 0\n",
    "betas = []\n",
    "for subj in subjects:\n",
    "    betas.append(nb.load(os.path.join(outdir,ss_out_pat%(subj,run_name,run_type,n))).get_data()[center_point[0],center_point[1],center_point[2],:])"
   ]
  },
  {
   "cell_type": "code",
   "execution_count": 183,
   "metadata": {
    "collapsed": true
   },
   "outputs": [],
   "source": [
    "for k,v in contrasts.items():\n",
    "    for i,subj in enumerate(subjects):\n",
    "        datdf.loc[datdf.subject == subj,k+'_beta'] = betas[i][v]"
   ]
  },
  {
   "cell_type": "code",
   "execution_count": 196,
   "metadata": {
    "collapsed": true
   },
   "outputs": [],
   "source": [
    "for subj in subjects:\n",
    "    dfind = ((datdf.subject == subj) & (datdf.pair_str != '0exclude') \n",
    "    & (datdf.space<spacemax) & (datdf.space > spacemin)\n",
    "    & (datdf.time<timemax) & (datdf.time > timemin))\n",
    "    break"
   ]
  },
  {
   "cell_type": "code",
   "execution_count": 23,
   "metadata": {},
   "outputs": [
    {
     "name": "stderr",
     "output_type": "stream",
     "text": [
      "/spin1/users/nielsond/python/envs/py27mvpa/lib/python2.7/site-packages/ipykernel_launcher.py:1: RuntimeWarning: divide by zero encountered in log10\n",
      "  \"\"\"Entry point for launching an IPython kernel.\n"
     ]
    }
   ],
   "source": [
    "datdf['space'] = np.log10(datdf.space)\n",
    "datdf['time'] = np.log10(datdf.time)\n",
    "datdf['event'] = np.log10(datdf.event)"
   ]
  },
  {
   "cell_type": "code",
   "execution_count": 15,
   "metadata": {
    "collapsed": true
   },
   "outputs": [],
   "source": [
    "from statsmodels.graphics.regressionplots import partial_resids\n"
   ]
  },
  {
   "cell_type": "code",
   "execution_count": 24,
   "metadata": {
    "scrolled": true
   },
   "outputs": [
    {
     "data": {
      "image/png": "[encoded data removed]",
      "text/plain": [
       "<matplotlib.figure.Figure at 0x2af8574b9d90>"
      ]
     },
     "metadata": {},
     "output_type": "display_data"
    }
   ],
   "source": [
    "sns.set_context(\"paper\")\n",
    "fig,axs = subplots(1,2, sharey = True, figsize = (3.346,3.346))\n",
    "ham_betas = []\n",
    "ham_viv_ave_betas = []\n",
    "for j,subj in enumerate(subjects):\n",
    "    dfind = ((datdf.subject == subj)& (datdf.pair_str != '0exclude') \n",
    "    & (datdf.space<np.log10(spacemax)) & (datdf.space > np.log10(spacemin))\n",
    "    & (datdf.time<np.log10(timemax)) & (datdf.time > np.log10(timemin)))\n",
    "    modl= smf.glm(formula=fe_formula, data=datdf.loc[dfind,:])\n",
    "    mdf = modl.fit()\n",
    "    datdf.loc[dfind,'ham_ham:viv_resid'] = partial_resids(mdf,'ham') + partial_resids(mdf,'ham:viv_ave') - (mdf.model.endog-mdf.predict())\n",
    "   \n",
    "    for i in range(2):\n",
    "        ax = axs[i]\n",
    "        x = datdf.loc[dfind &(datdf.viv_ave == i),'ham']\n",
    "        #x+= j*.1\n",
    "        yr = datdf.loc[dfind &(datdf.viv_ave == i),'ham_ham:viv_resid']\n",
    "        yb = (mdf.params['ham']) * x + (mdf.params['ham:viv_ave'] * i * x)\n",
    "        #ax.plot(x,yr,'o', alpha = 0.1)\n",
    "        ax.plot(x,yb, alpha = 0.8, zorder = 1000)\n",
    "        if i == 0:\n",
    "            ham_betas.append(mdf.params['ham'])\n",
    "            ham_viv_ave_betas.append(mdf.params['ham:viv_ave'])\n",
    "for i in range(2):\n",
    "\n",
    "    ax = axs[i]\n",
    "    dfind = ((datdf.pair_str != '0exclude') \n",
    "        & (datdf.space<np.log10(spacemax)) & (datdf.space > np.log10(spacemin))\n",
    "        & (datdf.time<np.log10(timemax)) & (datdf.time > np.log10(timemin)))\n",
    "    \n",
    "    x = datdf.loc[dfind&(datdf.viv_ave == i),'ham']\n",
    "    y = np.average(ham_betas) * x + (np.average(ham_viv_ave_betas) * i * x)\n",
    "    ax.plot(x,y,lw = 3, color = 'black')\n",
    "    ax.set_xlabel('Hamming Distance')\n",
    "\n",
    "ax = axs[0]\n",
    "ax.set_ylabel(\"Partial Residual\")\n",
    "ax.set_title('Vivid')\n",
    "ax = axs[1]\n",
    "ax.set_title('Non-vivid')\n",
    "fig.tight_layout()\n",
    "fig.savefig(\"ham_resid_plot.pdf\")\n",
    "fig.savefig(\"ham_resid_plot.svg\")\n",
    "fig.savefig(\"ham_resid_plot.png\",dpi = 1000)"
   ]
  },
  {
   "cell_type": "code",
   "execution_count": 32,
   "metadata": {
    "scrolled": false
   },
   "outputs": [
    {
     "data": {
      "image/png": "[encoded data removed]",
      "text/plain": [
       "<matplotlib.figure.Figure at 0x2af864f8a5d0>"
      ]
     },
     "metadata": {},
     "output_type": "display_data"
    }
   ],
   "source": [
    "fig,axs = subplots(len(subjects),2, sharey = True, sharex = True, figsize = (3.346,10))\n",
    "ham_betas = []\n",
    "ham_viv_ave_betas = []\n",
    "for j,subj in enumerate(subjects):\n",
    "    dfind = ((datdf.subject == subj)& (datdf.pair_str != '0exclude') \n",
    "    & (datdf.space<np.log10(spacemax)) & (datdf.space > np.log10(spacemin))\n",
    "    & (datdf.time<np.log10(timemax)) & (datdf.time > np.log10(timemin)))\n",
    "    modl= smf.glm(formula=fe_formula, data=datdf.loc[dfind,:])\n",
    "    mdf = modl.fit()\n",
    "    datdf.loc[dfind,'ham_ham:viv_resid'] = partial_resids(mdf,'ham') + partial_resids(mdf,'ham:viv_ave') - (mdf.model.endog-mdf.predict())\n",
    "   \n",
    "    for i in range(2):\n",
    "        ax = axs[j,i]\n",
    "        x = datdf.loc[dfind &(datdf.viv_ave == i),'ham']\n",
    "        x+= j*.1\n",
    "        yr = datdf.loc[dfind &(datdf.viv_ave == i),'ham_ham:viv_resid']\n",
    "        yb = (mdf.params['ham']) * x + (mdf.params['ham:viv_ave'] * i * x)\n",
    "        ax.plot(x,yr,'o', alpha = 0.1)\n",
    "        ax.plot(x,yb,lw = 3, color = 'black')\n",
    "        if i == 0:\n",
    "            ham_betas.append(mdf.params['ham'])\n",
    "            ham_viv_ave_betas.append(mdf.params['ham:viv_ave'])\n",
    "        \n",
    "\n",
    "axs[0,0].set_title('Vivid')\n",
    "axs[0,1].set_title('Non-vivid')\n",
    "fig.text(0.5, 0, 'Hamming Distance', ha = 'center')\n",
    "fig.text(0,0.5, 'Partial Residual',rotation = 'vertical')\n",
    "fig.tight_layout()\n",
    "fig.savefig(\"ham_resid_plot_subj.pdf\")\n",
    "fig.savefig(\"ham_resid_plot_subj.svg\")\n",
    "fig.savefig(\"ham_resid_plot_subj.png\",dpi = 1000)"
   ]
  },
  {
   "cell_type": "markdown",
   "metadata": {},
   "source": [
    "# Get atlas regions with sig voxels\n",
    "## conjunction"
   ]
  },
  {
   "cell_type": "code",
   "execution_count": 49,
   "metadata": {
    "collapsed": true
   },
   "outputs": [],
   "source": [
    "from nilearn import datasets\n",
    "import nilearn as nil\n",
    "\n",
    "dataset = datasets.fetch_atlas_harvard_oxford('cort-maxprob-thr25-2mm', symmetric_split = True)\n"
   ]
  },
  {
   "cell_type": "code",
   "execution_count": 51,
   "metadata": {
    "collapsed": true
   },
   "outputs": [],
   "source": [
    "cj_name = \"ham_cj_ham-viv_ave.tvals_cmask.perm_hamvivcorrel_stlim_SL4_zndist_1000perms_v1.glm_sl.cj_tfce.000.nii.gz\"\n",
    "cj = nb.load(os.path.join(outdir,\"stats\",cj_name))\n",
    "resamp = nil.image.resample_to_img(dataset.maps,cj,interpolation = 'nearest')"
   ]
  },
  {
   "cell_type": "code",
   "execution_count": 45,
   "metadata": {},
   "outputs": [
    {
     "data": {
      "text/plain": [
       "<nilearn.plotting.displays.OrthoSlicer at 0x2af8723c2910>"
      ]
     },
     "execution_count": 45,
     "metadata": {},
     "output_type": "execute_result"
    },
    {
     "data": {
      "image/png": "[encoded data removed]",
      "text/plain": [
       "<matplotlib.figure.Figure at 0x2af87137e810>"
      ]
     },
     "metadata": {},
     "output_type": "display_data"
    }
   ],
   "source": [
    "from nilearn import plotting\n",
    "plotting.plot_stat_map(cj,bg_img=resamp, threshold = 16232.56113)"
   ]
  },
  {
   "cell_type": "code",
   "execution_count": 72,
   "metadata": {
    "collapsed": true
   },
   "outputs": [],
   "source": [
    "atlasdf = pd.DataFrame.from_records([{'num':k,'label':dataset.labels[k],'val':v} for k,v in zip(resamp.get_data()[cj.get_data()>16232.56113],cj.get_data()[cj.get_data()>16232.56113])], columns = ['num','label','val'])"
   ]
  },
  {
   "cell_type": "code",
   "execution_count": 125,
   "metadata": {
    "collapsed": true
   },
   "outputs": [],
   "source": [
    "atlas_agg = atlasdf.groupby(['label','num'])[['val']].aggregate(['count','mean','median','max']).reset_index()\n",
    "atlas_agg = atlas_agg.loc[atlas_agg.num !=0,:]"
   ]
  },
  {
   "cell_type": "code",
   "execution_count": 126,
   "metadata": {
    "collapsed": true
   },
   "outputs": [],
   "source": [
    "thresh = 16232.56113\n",
    "res = []\n",
    "for n in pd.unique(atlas_agg.num):\n",
    "    r = {}\n",
    "    r['num'] = n\n",
    "    atlas_mask = (resamp.get_data()==n)\n",
    "    cj_mask = cj.get_data()>thresh\n",
    "    roi_peak = cj.get_data()[atlas_mask & cj_mask].max()\n",
    "    r['coords'] =  nb.affines.apply_affine(cj.affine,np.array(np.where(atlas_mask.astype(bool) & cj_mask.astype(bool) & (cj.get_data()==roi_peak))).squeeze())\n",
    "    res.append(r)\n",
    "res = pd.DataFrame(res)\n",
    "atlas_agg = atlas_agg.merge(res, on = 'num',how = 'left')\n",
    "atlas_agg.columns = [             u'num',u'label', u'num_x',\n",
    "         u'count',   u'mean',  u'median',\n",
    "          u'max',           u'coords']\n",
    "atlas_agg = atlas_agg.drop('num_x',axis = 1).sort_values('count', ascending = False)\n",
    "atlas_agg.to_csv('hamvivcorrel_cj_coords.csv', index = None)"
   ]
  },
  {
   "cell_type": "markdown",
   "metadata": {},
   "source": [
    "## Get clusters"
   ]
  },
  {
   "cell_type": "code",
   "execution_count": 131,
   "metadata": {
    "collapsed": true
   },
   "outputs": [],
   "source": [
    "thresh= 27579.22798\n",
    "cj_name = cj_name = \"ham.tvals_cmask.perm_hamvivcorrel_stlim_SL4_zndist_1000perms_v1.glm_sl.tfce.000.nii.gz\"\n",
    "cj = nb.load(os.path.join(outdir,\"stats\",cj_name))"
   ]
  },
  {
   "cell_type": "code",
   "execution_count": 149,
   "metadata": {
    "collapsed": true
   },
   "outputs": [],
   "source": [
    "atlasdf = pd.DataFrame.from_records([{'num':k,'label':dataset.labels[k],'val':v} for k,v in zip(resamp.get_data()[cj.get_data()>thresh],cj.get_data()[cj.get_data()>thresh])], columns = ['num','label','val'])\n",
    "atlas_agg = atlasdf.groupby(['label','num'])[['val']].aggregate(['count','mean','median','max']).reset_index()\n",
    "atlas_agg = atlas_agg.loc[atlas_agg.num !=0,:]\n",
    "res = []\n",
    "for n in pd.unique(atlas_agg.num):\n",
    "    r = {}\n",
    "    r['num'] = n\n",
    "    atlas_mask = (resamp.get_data()==n)\n",
    "    cj_mask = cj.get_data()>thresh\n",
    "    roi_peak = cj.get_data()[atlas_mask & cj_mask].max()\n",
    "    r['coords'] =  nb.affines.apply_affine(cj.affine,np.array(np.where(atlas_mask.astype(bool) & cj_mask.astype(bool) & (cj.get_data()==roi_peak))).squeeze().T)\n",
    "    res.append(r)\n",
    "res = pd.DataFrame(res)\n",
    "atlas_agg = atlas_agg.merge(res, on = 'num',how = 'left')\n",
    "atlas_agg.columns = [             u'num',u'label', u'num_x',\n",
    "         u'count',   u'mean',  u'median',\n",
    "          u'max',           u'coords']\n",
    "atlas_agg = atlas_agg.drop('num_x',axis = 1).sort_values('count', ascending = False)\n",
    "atlas_agg.to_csv('hamvivcorrel_ham_coords.csv', index = None)"
   ]
  },
  {
   "cell_type": "code",
   "execution_count": 150,
   "metadata": {},
   "outputs": [
    {
     "data": {
      "text/html": [
       "<div>\n",
       "<style>\n",
       "    .dataframe thead tr:only-child th {\n",
       "        text-align: right;\n",
       "    }\n",
       "\n",
       "    .dataframe thead th {\n",
       "        text-align: left;\n",
       "    }\n",
       "\n",
       "    .dataframe tbody tr th {\n",
       "        vertical-align: top;\n",
       "    }\n",
       "</style>\n",
       "<table border=\"1\" class=\"dataframe\">\n",
       "  <thead>\n",
       "    <tr style=\"text-align: right;\">\n",
       "      <th></th>\n",
       "      <th>num</th>\n",
       "      <th>label</th>\n",
       "      <th>count</th>\n",
       "      <th>mean</th>\n",
       "      <th>median</th>\n",
       "      <th>max</th>\n",
       "      <th>coords</th>\n",
       "    </tr>\n",
       "  </thead>\n",
       "  <tbody>\n",
       "    <tr>\n",
       "      <th>27</th>\n",
       "      <td>62</td>\n",
       "      <td>Precuneous Cortex, right part</td>\n",
       "      <td>382</td>\n",
       "      <td>34385.001897</td>\n",
       "      <td>33071.980469</td>\n",
       "      <td>48123.324219</td>\n",
       "      <td>[12.5, -65.5, 23.0]</td>\n",
       "    </tr>\n",
       "    <tr>\n",
       "      <th>17</th>\n",
       "      <td>8</td>\n",
       "      <td>Middle Frontal Gyrus, right part</td>\n",
       "      <td>193</td>\n",
       "      <td>30099.815070</td>\n",
       "      <td>30100.945312</td>\n",
       "      <td>34687.460938</td>\n",
       "      <td>[45.0, 32.0, 33.0]</td>\n",
       "    </tr>\n",
       "    <tr>\n",
       "      <th>26</th>\n",
       "      <td>61</td>\n",
       "      <td>Precuneous Cortex, left part</td>\n",
       "      <td>160</td>\n",
       "      <td>31471.479163</td>\n",
       "      <td>31218.425781</td>\n",
       "      <td>35882.972656</td>\n",
       "      <td>[-2.5, -63.0, 28.0]</td>\n",
       "    </tr>\n",
       "    <tr>\n",
       "      <th>34</th>\n",
       "      <td>16</td>\n",
       "      <td>Temporal Pole, right part</td>\n",
       "      <td>91</td>\n",
       "      <td>30264.441277</td>\n",
       "      <td>30437.699219</td>\n",
       "      <td>32481.328125</td>\n",
       "      <td>[50.0, 12.0, -24.5]</td>\n",
       "    </tr>\n",
       "    <tr>\n",
       "      <th>16</th>\n",
       "      <td>72</td>\n",
       "      <td>Lingual Gyrus, right part</td>\n",
       "      <td>68</td>\n",
       "      <td>30309.117188</td>\n",
       "      <td>30642.133789</td>\n",
       "      <td>32227.101562</td>\n",
       "      <td>[12.5, -58.0, 5.5]</td>\n",
       "    </tr>\n",
       "    <tr>\n",
       "      <th>19</th>\n",
       "      <td>24</td>\n",
       "      <td>Middle Temporal Gyrus, posterior division, rig...</td>\n",
       "      <td>56</td>\n",
       "      <td>30272.090262</td>\n",
       "      <td>30719.492188</td>\n",
       "      <td>31821.724609</td>\n",
       "      <td>[52.5, -18.0, -17.0]</td>\n",
       "    </tr>\n",
       "    <tr>\n",
       "      <th>3</th>\n",
       "      <td>64</td>\n",
       "      <td>Cuneal Cortex, right part</td>\n",
       "      <td>54</td>\n",
       "      <td>33206.409433</td>\n",
       "      <td>31846.599609</td>\n",
       "      <td>45559.871094</td>\n",
       "      <td>[12.5, -68.0, 23.0]</td>\n",
       "    </tr>\n",
       "    <tr>\n",
       "      <th>8</th>\n",
       "      <td>10</td>\n",
       "      <td>Inferior Frontal Gyrus, pars triangularis, rig...</td>\n",
       "      <td>51</td>\n",
       "      <td>30391.220358</td>\n",
       "      <td>30721.265625</td>\n",
       "      <td>31757.044922</td>\n",
       "      <td>[55.0, 29.5, 18.0]</td>\n",
       "    </tr>\n",
       "    <tr>\n",
       "      <th>33</th>\n",
       "      <td>78</td>\n",
       "      <td>Temporal Occipital Fusiform Cortex, right part</td>\n",
       "      <td>49</td>\n",
       "      <td>30347.057478</td>\n",
       "      <td>30410.060547</td>\n",
       "      <td>32620.082031</td>\n",
       "      <td>[37.5, -50.5, -12.0]</td>\n",
       "    </tr>\n",
       "    <tr>\n",
       "      <th>1</th>\n",
       "      <td>60</td>\n",
       "      <td>Cingulate Gyrus, posterior division, right part</td>\n",
       "      <td>46</td>\n",
       "      <td>30133.334664</td>\n",
       "      <td>30160.660156</td>\n",
       "      <td>34881.839844</td>\n",
       "      <td>[12.5, -50.5, 33.0]</td>\n",
       "    </tr>\n",
       "    <tr>\n",
       "      <th>14</th>\n",
       "      <td>43</td>\n",
       "      <td>Lateral Occipital Cortex, superior division, l...</td>\n",
       "      <td>45</td>\n",
       "      <td>27763.024219</td>\n",
       "      <td>27730.728516</td>\n",
       "      <td>28185.369141</td>\n",
       "      <td>[-32.5, -83.0, 20.5]</td>\n",
       "    </tr>\n",
       "    <tr>\n",
       "      <th>32</th>\n",
       "      <td>76</td>\n",
       "      <td>Temporal Fusiform Cortex, posterior division, ...</td>\n",
       "      <td>37</td>\n",
       "      <td>30597.755648</td>\n",
       "      <td>30582.486328</td>\n",
       "      <td>32950.160156</td>\n",
       "      <td>[42.5, -15.5, -24.5]</td>\n",
       "    </tr>\n",
       "    <tr>\n",
       "      <th>18</th>\n",
       "      <td>22</td>\n",
       "      <td>Middle Temporal Gyrus, anterior division, righ...</td>\n",
       "      <td>35</td>\n",
       "      <td>31463.421205</td>\n",
       "      <td>31196.371094</td>\n",
       "      <td>37098.300781</td>\n",
       "      <td>[52.5, -3.0, -22.0]</td>\n",
       "    </tr>\n",
       "    <tr>\n",
       "      <th>10</th>\n",
       "      <td>30</td>\n",
       "      <td>Inferior Temporal Gyrus, posterior division, r...</td>\n",
       "      <td>33</td>\n",
       "      <td>30424.192353</td>\n",
       "      <td>30410.060547</td>\n",
       "      <td>33262.296875</td>\n",
       "      <td>[47.5, -33.0, -19.5]</td>\n",
       "    </tr>\n",
       "    <tr>\n",
       "      <th>29</th>\n",
       "      <td>18</td>\n",
       "      <td>Superior Temporal Gyrus, anterior division, ri...</td>\n",
       "      <td>33</td>\n",
       "      <td>32080.596058</td>\n",
       "      <td>31843.083984</td>\n",
       "      <td>37582.859375</td>\n",
       "      <td>[47.5, -0.5, -19.5]</td>\n",
       "    </tr>\n",
       "    <tr>\n",
       "      <th>6</th>\n",
       "      <td>2</td>\n",
       "      <td>Frontal Pole, right part</td>\n",
       "      <td>26</td>\n",
       "      <td>29501.423453</td>\n",
       "      <td>29809.246094</td>\n",
       "      <td>30099.025391</td>\n",
       "      <td>[[22.5, 42.0, 45.5], [20.0, 42.0, 45.5]]</td>\n",
       "    </tr>\n",
       "    <tr>\n",
       "      <th>11</th>\n",
       "      <td>32</td>\n",
       "      <td>Inferior Temporal Gyrus, temporooccipital part...</td>\n",
       "      <td>26</td>\n",
       "      <td>30618.998798</td>\n",
       "      <td>30665.463867</td>\n",
       "      <td>32394.957031</td>\n",
       "      <td>[50.0, -48.0, -22.0]</td>\n",
       "    </tr>\n",
       "    <tr>\n",
       "      <th>23</th>\n",
       "      <td>33</td>\n",
       "      <td>Postcentral Gyrus, left part</td>\n",
       "      <td>22</td>\n",
       "      <td>32988.926491</td>\n",
       "      <td>33981.746094</td>\n",
       "      <td>34580.707031</td>\n",
       "      <td>[-7.5, -43.0, 55.5]</td>\n",
       "    </tr>\n",
       "    <tr>\n",
       "      <th>4</th>\n",
       "      <td>82</td>\n",
       "      <td>Frontal Operculum Cortex, right part</td>\n",
       "      <td>21</td>\n",
       "      <td>30185.051153</td>\n",
       "      <td>30437.699219</td>\n",
       "      <td>31266.417969</td>\n",
       "      <td>[45.0, 17.0, 5.5]</td>\n",
       "    </tr>\n",
       "    <tr>\n",
       "      <th>13</th>\n",
       "      <td>48</td>\n",
       "      <td>Intracalcarine Cortex, right part</td>\n",
       "      <td>18</td>\n",
       "      <td>30436.104492</td>\n",
       "      <td>30307.155273</td>\n",
       "      <td>32872.656250</td>\n",
       "      <td>[20.0, -60.5, 5.5]</td>\n",
       "    </tr>\n",
       "    <tr>\n",
       "      <th>7</th>\n",
       "      <td>12</td>\n",
       "      <td>Inferior Frontal Gyrus, pars opercularis, righ...</td>\n",
       "      <td>16</td>\n",
       "      <td>29745.888794</td>\n",
       "      <td>29918.948242</td>\n",
       "      <td>31055.462891</td>\n",
       "      <td>[47.5, 17.0, 8.0]</td>\n",
       "    </tr>\n",
       "    <tr>\n",
       "      <th>21</th>\n",
       "      <td>70</td>\n",
       "      <td>Parahippocampal Gyrus, posterior division, rig...</td>\n",
       "      <td>14</td>\n",
       "      <td>29469.286133</td>\n",
       "      <td>29736.951172</td>\n",
       "      <td>30880.478516</td>\n",
       "      <td>[12.5, -35.5, -7.0]</td>\n",
       "    </tr>\n",
       "    <tr>\n",
       "      <th>31</th>\n",
       "      <td>94</td>\n",
       "      <td>Supracalcarine Cortex, right part</td>\n",
       "      <td>14</td>\n",
       "      <td>30170.032506</td>\n",
       "      <td>30574.554688</td>\n",
       "      <td>32475.121094</td>\n",
       "      <td>[[22.5, -65.5, 20.5], [17.5, -65.5, 18.0]]</td>\n",
       "    </tr>\n",
       "    <tr>\n",
       "      <th>12</th>\n",
       "      <td>4</td>\n",
       "      <td>Insular Cortex, right part</td>\n",
       "      <td>11</td>\n",
       "      <td>30009.464311</td>\n",
       "      <td>30536.814453</td>\n",
       "      <td>30867.255859</td>\n",
       "      <td>[[42.5, 17.0, -4.5], [40.0, 19.5, -7.0]]</td>\n",
       "    </tr>\n",
       "    <tr>\n",
       "      <th>30</th>\n",
       "      <td>20</td>\n",
       "      <td>Superior Temporal Gyrus, posterior division, r...</td>\n",
       "      <td>10</td>\n",
       "      <td>30518.971875</td>\n",
       "      <td>29736.951172</td>\n",
       "      <td>35460.023438</td>\n",
       "      <td>[47.5, -8.0, -17.0]</td>\n",
       "    </tr>\n",
       "    <tr>\n",
       "      <th>0</th>\n",
       "      <td>59</td>\n",
       "      <td>Cingulate Gyrus, posterior division, left part</td>\n",
       "      <td>10</td>\n",
       "      <td>29662.094531</td>\n",
       "      <td>29741.858398</td>\n",
       "      <td>31262.449219</td>\n",
       "      <td>[-10.0, -43.0, 40.5]</td>\n",
       "    </tr>\n",
       "    <tr>\n",
       "      <th>28</th>\n",
       "      <td>6</td>\n",
       "      <td>Superior Frontal Gyrus, right part</td>\n",
       "      <td>9</td>\n",
       "      <td>29899.937717</td>\n",
       "      <td>29874.228516</td>\n",
       "      <td>30964.285156</td>\n",
       "      <td>[25.0, 27.0, 43.0]</td>\n",
       "    </tr>\n",
       "    <tr>\n",
       "      <th>24</th>\n",
       "      <td>13</td>\n",
       "      <td>Precentral Gyrus, left part</td>\n",
       "      <td>8</td>\n",
       "      <td>31426.197754</td>\n",
       "      <td>31532.512695</td>\n",
       "      <td>34336.640625</td>\n",
       "      <td>[-2.5, -35.5, 55.5]</td>\n",
       "    </tr>\n",
       "    <tr>\n",
       "      <th>5</th>\n",
       "      <td>66</td>\n",
       "      <td>Frontal Orbital Cortex, right part</td>\n",
       "      <td>7</td>\n",
       "      <td>30442.153181</td>\n",
       "      <td>30591.068359</td>\n",
       "      <td>30888.701172</td>\n",
       "      <td>[42.5, 17.0, -9.5]</td>\n",
       "    </tr>\n",
       "    <tr>\n",
       "      <th>2</th>\n",
       "      <td>63</td>\n",
       "      <td>Cuneal Cortex, left part</td>\n",
       "      <td>6</td>\n",
       "      <td>27747.343424</td>\n",
       "      <td>27770.737305</td>\n",
       "      <td>27829.708984</td>\n",
       "      <td>[[-17.5, -73.0, 20.5], [-20.0, -70.5, 20.5]]</td>\n",
       "    </tr>\n",
       "    <tr>\n",
       "      <th>22</th>\n",
       "      <td>88</td>\n",
       "      <td>Planum Polare, right part</td>\n",
       "      <td>4</td>\n",
       "      <td>30162.898926</td>\n",
       "      <td>30112.006836</td>\n",
       "      <td>30690.630859</td>\n",
       "      <td>[45.0, -5.5, -17.0]</td>\n",
       "    </tr>\n",
       "    <tr>\n",
       "      <th>15</th>\n",
       "      <td>44</td>\n",
       "      <td>Lateral Occipital Cortex, superior division, r...</td>\n",
       "      <td>3</td>\n",
       "      <td>33277.263021</td>\n",
       "      <td>33360.117188</td>\n",
       "      <td>33360.117188</td>\n",
       "      <td>[[27.5, -65.5, 30.5], [27.5, -65.5, 33.0]]</td>\n",
       "    </tr>\n",
       "    <tr>\n",
       "      <th>25</th>\n",
       "      <td>14</td>\n",
       "      <td>Precentral Gyrus, right part</td>\n",
       "      <td>3</td>\n",
       "      <td>28593.340495</td>\n",
       "      <td>28573.830078</td>\n",
       "      <td>28783.443359</td>\n",
       "      <td>[47.5, 7.0, 35.5]</td>\n",
       "    </tr>\n",
       "    <tr>\n",
       "      <th>20</th>\n",
       "      <td>68</td>\n",
       "      <td>Parahippocampal Gyrus, anterior division, righ...</td>\n",
       "      <td>1</td>\n",
       "      <td>29736.951172</td>\n",
       "      <td>29736.951172</td>\n",
       "      <td>29736.951172</td>\n",
       "      <td>[35.0, -15.5, -29.5]</td>\n",
       "    </tr>\n",
       "    <tr>\n",
       "      <th>9</th>\n",
       "      <td>28</td>\n",
       "      <td>Inferior Temporal Gyrus, anterior division, ri...</td>\n",
       "      <td>1</td>\n",
       "      <td>29736.951172</td>\n",
       "      <td>29736.951172</td>\n",
       "      <td>29736.951172</td>\n",
       "      <td>[42.5, -0.5, -37.0]</td>\n",
       "    </tr>\n",
       "  </tbody>\n",
       "</table>\n",
       "</div>"
      ],
      "text/plain": [
       "    num                                              label  count  \\\n",
       "27   62                      Precuneous Cortex, right part    382   \n",
       "17    8                   Middle Frontal Gyrus, right part    193   \n",
       "26   61                       Precuneous Cortex, left part    160   \n",
       "34   16                          Temporal Pole, right part     91   \n",
       "16   72                          Lingual Gyrus, right part     68   \n",
       "19   24  Middle Temporal Gyrus, posterior division, rig...     56   \n",
       "3    64                          Cuneal Cortex, right part     54   \n",
       "8    10  Inferior Frontal Gyrus, pars triangularis, rig...     51   \n",
       "33   78     Temporal Occipital Fusiform Cortex, right part     49   \n",
       "1    60    Cingulate Gyrus, posterior division, right part     46   \n",
       "14   43  Lateral Occipital Cortex, superior division, l...     45   \n",
       "32   76  Temporal Fusiform Cortex, posterior division, ...     37   \n",
       "18   22  Middle Temporal Gyrus, anterior division, righ...     35   \n",
       "10   30  Inferior Temporal Gyrus, posterior division, r...     33   \n",
       "29   18  Superior Temporal Gyrus, anterior division, ri...     33   \n",
       "6     2                           Frontal Pole, right part     26   \n",
       "11   32  Inferior Temporal Gyrus, temporooccipital part...     26   \n",
       "23   33                       Postcentral Gyrus, left part     22   \n",
       "4    82               Frontal Operculum Cortex, right part     21   \n",
       "13   48                  Intracalcarine Cortex, right part     18   \n",
       "7    12  Inferior Frontal Gyrus, pars opercularis, righ...     16   \n",
       "21   70  Parahippocampal Gyrus, posterior division, rig...     14   \n",
       "31   94                  Supracalcarine Cortex, right part     14   \n",
       "12    4                         Insular Cortex, right part     11   \n",
       "30   20  Superior Temporal Gyrus, posterior division, r...     10   \n",
       "0    59     Cingulate Gyrus, posterior division, left part     10   \n",
       "28    6                 Superior Frontal Gyrus, right part      9   \n",
       "24   13                        Precentral Gyrus, left part      8   \n",
       "5    66                 Frontal Orbital Cortex, right part      7   \n",
       "2    63                           Cuneal Cortex, left part      6   \n",
       "22   88                          Planum Polare, right part      4   \n",
       "15   44  Lateral Occipital Cortex, superior division, r...      3   \n",
       "25   14                       Precentral Gyrus, right part      3   \n",
       "20   68  Parahippocampal Gyrus, anterior division, righ...      1   \n",
       "9    28  Inferior Temporal Gyrus, anterior division, ri...      1   \n",
       "\n",
       "            mean        median           max  \\\n",
       "27  34385.001897  33071.980469  48123.324219   \n",
       "17  30099.815070  30100.945312  34687.460938   \n",
       "26  31471.479163  31218.425781  35882.972656   \n",
       "34  30264.441277  30437.699219  32481.328125   \n",
       "16  30309.117188  30642.133789  32227.101562   \n",
       "19  30272.090262  30719.492188  31821.724609   \n",
       "3   33206.409433  31846.599609  45559.871094   \n",
       "8   30391.220358  30721.265625  31757.044922   \n",
       "33  30347.057478  30410.060547  32620.082031   \n",
       "1   30133.334664  30160.660156  34881.839844   \n",
       "14  27763.024219  27730.728516  28185.369141   \n",
       "32  30597.755648  30582.486328  32950.160156   \n",
       "18  31463.421205  31196.371094  37098.300781   \n",
       "10  30424.192353  30410.060547  33262.296875   \n",
       "29  32080.596058  31843.083984  37582.859375   \n",
       "6   29501.423453  29809.246094  30099.025391   \n",
       "11  30618.998798  30665.463867  32394.957031   \n",
       "23  32988.926491  33981.746094  34580.707031   \n",
       "4   30185.051153  30437.699219  31266.417969   \n",
       "13  30436.104492  30307.155273  32872.656250   \n",
       "7   29745.888794  29918.948242  31055.462891   \n",
       "21  29469.286133  29736.951172  30880.478516   \n",
       "31  30170.032506  30574.554688  32475.121094   \n",
       "12  30009.464311  30536.814453  30867.255859   \n",
       "30  30518.971875  29736.951172  35460.023438   \n",
       "0   29662.094531  29741.858398  31262.449219   \n",
       "28  29899.937717  29874.228516  30964.285156   \n",
       "24  31426.197754  31532.512695  34336.640625   \n",
       "5   30442.153181  30591.068359  30888.701172   \n",
       "2   27747.343424  27770.737305  27829.708984   \n",
       "22  30162.898926  30112.006836  30690.630859   \n",
       "15  33277.263021  33360.117188  33360.117188   \n",
       "25  28593.340495  28573.830078  28783.443359   \n",
       "20  29736.951172  29736.951172  29736.951172   \n",
       "9   29736.951172  29736.951172  29736.951172   \n",
       "\n",
       "                                          coords  \n",
       "27                           [12.5, -65.5, 23.0]  \n",
       "17                            [45.0, 32.0, 33.0]  \n",
       "26                           [-2.5, -63.0, 28.0]  \n",
       "34                           [50.0, 12.0, -24.5]  \n",
       "16                            [12.5, -58.0, 5.5]  \n",
       "19                          [52.5, -18.0, -17.0]  \n",
       "3                            [12.5, -68.0, 23.0]  \n",
       "8                             [55.0, 29.5, 18.0]  \n",
       "33                          [37.5, -50.5, -12.0]  \n",
       "1                            [12.5, -50.5, 33.0]  \n",
       "14                          [-32.5, -83.0, 20.5]  \n",
       "32                          [42.5, -15.5, -24.5]  \n",
       "18                           [52.5, -3.0, -22.0]  \n",
       "10                          [47.5, -33.0, -19.5]  \n",
       "29                           [47.5, -0.5, -19.5]  \n",
       "6       [[22.5, 42.0, 45.5], [20.0, 42.0, 45.5]]  \n",
       "11                          [50.0, -48.0, -22.0]  \n",
       "23                           [-7.5, -43.0, 55.5]  \n",
       "4                              [45.0, 17.0, 5.5]  \n",
       "13                            [20.0, -60.5, 5.5]  \n",
       "7                              [47.5, 17.0, 8.0]  \n",
       "21                           [12.5, -35.5, -7.0]  \n",
       "31    [[22.5, -65.5, 20.5], [17.5, -65.5, 18.0]]  \n",
       "12      [[42.5, 17.0, -4.5], [40.0, 19.5, -7.0]]  \n",
       "30                           [47.5, -8.0, -17.0]  \n",
       "0                           [-10.0, -43.0, 40.5]  \n",
       "28                            [25.0, 27.0, 43.0]  \n",
       "24                           [-2.5, -35.5, 55.5]  \n",
       "5                             [42.5, 17.0, -9.5]  \n",
       "2   [[-17.5, -73.0, 20.5], [-20.0, -70.5, 20.5]]  \n",
       "22                           [45.0, -5.5, -17.0]  \n",
       "15    [[27.5, -65.5, 30.5], [27.5, -65.5, 33.0]]  \n",
       "25                             [47.5, 7.0, 35.5]  \n",
       "20                          [35.0, -15.5, -29.5]  \n",
       "9                            [42.5, -0.5, -37.0]  "
      ]
     },
     "execution_count": 150,
     "metadata": {},
     "output_type": "execute_result"
    }
   ],
   "source": [
    "atlas_agg"
   ]
  }
 ],
 "metadata": {
  "kernelspec": {
   "display_name": "Python 2",
   "language": "python",
   "name": "python2"
  },
  "language_info": {
   "codemirror_mode": {
    "name": "ipython",
    "version": 2
   },
   "file_extension": ".py",
   "mimetype": "text/x-python",
   "name": "python",
   "nbconvert_exporter": "python",
   "pygments_lexer": "ipython2",
   "version": "2.7.13"
  }
 },
 "nbformat": 4,
 "nbformat_minor": 1
}
